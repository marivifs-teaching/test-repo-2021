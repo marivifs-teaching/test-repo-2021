{
  "nbformat": 4,
  "nbformat_minor": 0,
  "metadata": {
    "colab": {
      "name": "amacinnis_machine_learning.ipynb",
      "provenance": [],
      "collapsed_sections": []
    },
    "kernelspec": {
      "name": "python3",
      "display_name": "Python 3"
    },
    "language_info": {
      "name": "python"
    }
  },
  "cells": [
    {
      "cell_type": "code",
      "metadata": {
        "id": "ZzC1q3vc5izk"
      },
      "source": [
        "import keras\n",
        "\n",
        "import matplotlib.pyplot as plt\n",
        "import numpy as np\n",
        "\n",
        "%matplotlib inline"
      ],
      "execution_count": 1,
      "outputs": []
    },
    {
      "cell_type": "markdown",
      "metadata": {
        "id": "ZhedGbM25xyn"
      },
      "source": [
        "# Setup\n",
        "\n",
        "I decided to copy everything over to a new notebook, otherwise the original notebook would become too long. \n",
        "\n",
        "Below, I just set everything up in the same way as the `keras-mnist` notebook."
      ]
    },
    {
      "cell_type": "markdown",
      "metadata": {
        "id": "pBS6CTb36Nw3"
      },
      "source": [
        "## Load and format the data\n",
        "\n",
        "Load the MNIST data for training and for testing:"
      ]
    },
    {
      "cell_type": "code",
      "metadata": {
        "colab": {
          "base_uri": "https://localhost:8080/"
        },
        "id": "HeRsQUta6LO9",
        "outputId": "ea0310f4-94f6-46da-ee8f-935a1ac1e83b"
      },
      "source": [
        "from keras.datasets import mnist\n",
        "(X_train, y_train), (X_test, y_test) = mnist.load_data()"
      ],
      "execution_count": 2,
      "outputs": [
        {
          "output_type": "stream",
          "text": [
            "Downloading data from https://storage.googleapis.com/tensorflow/tf-keras-datasets/mnist.npz\n",
            "11493376/11490434 [==============================] - 0s 0us/step\n"
          ],
          "name": "stdout"
        }
      ]
    },
    {
      "cell_type": "markdown",
      "metadata": {
        "id": "ydlJM-lf6Y_a"
      },
      "source": [
        "Normalize and reshape the input data:"
      ]
    },
    {
      "cell_type": "code",
      "metadata": {
        "id": "frgo0rLD6Xof"
      },
      "source": [
        "# normalize data \n",
        "X_train = X_train.astype('float32')/255\n",
        "X_test = X_test.astype('float32')/255\n",
        "\n",
        "# reshape - flatten the 28x28 arrays\n",
        "X_train = np.reshape(X_train, (60000, 784))\n",
        "X_test = np.reshape(X_test, (10000, 784))"
      ],
      "execution_count": 3,
      "outputs": []
    },
    {
      "cell_type": "markdown",
      "metadata": {
        "id": "D-LQf-8-6hh6"
      },
      "source": [
        "Convert the output to an array, matching the output of a neural network:"
      ]
    },
    {
      "cell_type": "code",
      "metadata": {
        "id": "aswGVsdM6ffe"
      },
      "source": [
        "from keras.utils import np_utils\n",
        "\n",
        "y_train = np_utils.to_categorical(y_train, 10)\n",
        "y_test = np_utils.to_categorical(y_test, 10)"
      ],
      "execution_count": 4,
      "outputs": []
    },
    {
      "cell_type": "markdown",
      "metadata": {
        "id": "TyyftgSq7A_4"
      },
      "source": [
        "## Build the Neural Network\n",
        "\n",
        "This is the step we'll be playing with for the assignment, but let's build and run the original. As a reminder,\n",
        "\n",
        "> We will have 2 hidden layers, and the number of neurons will look like:\n",
        ">\n",
        "> 784 &rarr; 500 &rarr; 300 &rarr; 10\n",
        ">\n",
        ">- 784 = number of input\n",
        ">- 10 = number of output\n",
        ">- two hidden layers between to reduce numbers in steps"
      ]
    },
    {
      "cell_type": "code",
      "metadata": {
        "id": "i4UEK9w66rbj"
      },
      "source": [
        "from keras.models import Sequential\n",
        "from keras.layers.core import Dense, Dropout, Activation\n",
        "from keras.optimizers import RMSprop\n",
        "\n",
        "model = Sequential()                 # using a sequential NN model - b/c we have vectors\n",
        "model.add(Dense(500, input_dim=784)) # add a dense layer that should have output of size 500 w/ input of size 784\n",
        "model.add(Activation('relu'))        # non-linear activation function (see notes above) -  this is a hyper param\n",
        "model.add(Dropout(0.4))              # 0.4% of layers not activated (see above)- hyper param\n",
        "model.add(Dense(300))                # add dense layer with 300 for output - it knows input size from prev layer\n",
        "model.add(Activation('relu'))        # same as above\n",
        "model.add(Dropout(0.4))              # same as above\n",
        "model.add(Dense(10))                 # last layer - output array w/ 10 elements\n",
        "model.add(Activation('softmax'))     # see notes above - use different actiivation func for last layer to return probabilities"
      ],
      "execution_count": 5,
      "outputs": []
    },
    {
      "cell_type": "markdown",
      "metadata": {
        "id": "9eH2pS4p8JmO"
      },
      "source": [
        "Choose a loss function, and an optimizer to minimize it. Here we use the `RMSprop` optimizer to minimize a \"cross-entropy\" loss function. We will use the accuracy of the model as our metric."
      ]
    },
    {
      "cell_type": "code",
      "metadata": {
        "id": "zI7sVGQX8Qe-"
      },
      "source": [
        "# build a model using the minimum requirements:\n",
        "rms = RMSprop() # optimizer - want to minimize the loss function\n",
        "model.compile(loss='categorical_crossentropy', # loss function to use\n",
        "              optimizer=rms, metrics=['accuracy']) # metric: how well is it doing? want acc -> 100% \n",
        "                                                   #(acc = proportion of correct guessing the NN makes, as more data is passed)"
      ],
      "execution_count": 6,
      "outputs": []
    },
    {
      "cell_type": "markdown",
      "metadata": {
        "id": "2IjXgBgq8svM"
      },
      "source": [
        "Now we will train the model using the training data. We will train for 20 epochs, using a batch size of 256."
      ]
    },
    {
      "cell_type": "code",
      "metadata": {
        "colab": {
          "base_uri": "https://localhost:8080/"
        },
        "id": "ZP55QLC-9AWp",
        "outputId": "d78e1fb0-64ad-4100-b979-d54caa4132f5"
      },
      "source": [
        "epochs = 20     \n",
        "batch_size = 256 \n",
        "model.fit(X_train, y_train, epochs=epochs, batch_size=batch_size,\n",
        "          validation_data=(X_test, y_test), verbose=2)"
      ],
      "execution_count": 7,
      "outputs": [
        {
          "output_type": "stream",
          "text": [
            "Epoch 1/20\n",
            "235/235 - 6s - loss: 0.3565 - accuracy: 0.8907 - val_loss: 0.1557 - val_accuracy: 0.9517\n",
            "Epoch 2/20\n",
            "235/235 - 5s - loss: 0.1538 - accuracy: 0.9540 - val_loss: 0.0973 - val_accuracy: 0.9715\n",
            "Epoch 3/20\n",
            "235/235 - 5s - loss: 0.1149 - accuracy: 0.9652 - val_loss: 0.0858 - val_accuracy: 0.9725\n",
            "Epoch 4/20\n",
            "235/235 - 5s - loss: 0.0937 - accuracy: 0.9716 - val_loss: 0.0816 - val_accuracy: 0.9755\n",
            "Epoch 5/20\n",
            "235/235 - 5s - loss: 0.0821 - accuracy: 0.9753 - val_loss: 0.0846 - val_accuracy: 0.9759\n",
            "Epoch 6/20\n",
            "235/235 - 5s - loss: 0.0700 - accuracy: 0.9789 - val_loss: 0.0729 - val_accuracy: 0.9795\n",
            "Epoch 7/20\n",
            "235/235 - 5s - loss: 0.0628 - accuracy: 0.9803 - val_loss: 0.0676 - val_accuracy: 0.9814\n",
            "Epoch 8/20\n",
            "235/235 - 5s - loss: 0.0580 - accuracy: 0.9822 - val_loss: 0.0684 - val_accuracy: 0.9815\n",
            "Epoch 9/20\n",
            "235/235 - 5s - loss: 0.0553 - accuracy: 0.9833 - val_loss: 0.0710 - val_accuracy: 0.9815\n",
            "Epoch 10/20\n",
            "235/235 - 5s - loss: 0.0490 - accuracy: 0.9844 - val_loss: 0.0693 - val_accuracy: 0.9824\n",
            "Epoch 11/20\n",
            "235/235 - 5s - loss: 0.0474 - accuracy: 0.9857 - val_loss: 0.0710 - val_accuracy: 0.9828\n",
            "Epoch 12/20\n",
            "235/235 - 5s - loss: 0.0464 - accuracy: 0.9862 - val_loss: 0.0749 - val_accuracy: 0.9832\n",
            "Epoch 13/20\n",
            "235/235 - 5s - loss: 0.0420 - accuracy: 0.9876 - val_loss: 0.0763 - val_accuracy: 0.9817\n",
            "Epoch 14/20\n",
            "235/235 - 5s - loss: 0.0399 - accuracy: 0.9876 - val_loss: 0.0852 - val_accuracy: 0.9819\n",
            "Epoch 15/20\n",
            "235/235 - 5s - loss: 0.0401 - accuracy: 0.9878 - val_loss: 0.0727 - val_accuracy: 0.9825\n",
            "Epoch 16/20\n",
            "235/235 - 5s - loss: 0.0354 - accuracy: 0.9894 - val_loss: 0.0750 - val_accuracy: 0.9829\n",
            "Epoch 17/20\n",
            "235/235 - 5s - loss: 0.0349 - accuracy: 0.9890 - val_loss: 0.0778 - val_accuracy: 0.9822\n",
            "Epoch 18/20\n",
            "235/235 - 5s - loss: 0.0330 - accuracy: 0.9901 - val_loss: 0.0739 - val_accuracy: 0.9839\n",
            "Epoch 19/20\n",
            "235/235 - 5s - loss: 0.0319 - accuracy: 0.9905 - val_loss: 0.0830 - val_accuracy: 0.9832\n",
            "Epoch 20/20\n",
            "235/235 - 5s - loss: 0.0313 - accuracy: 0.9907 - val_loss: 0.0846 - val_accuracy: 0.9827\n"
          ],
          "name": "stdout"
        },
        {
          "output_type": "execute_result",
          "data": {
            "text/plain": [
              "<tensorflow.python.keras.callbacks.History at 0x7f6d40705590>"
            ]
          },
          "metadata": {
            "tags": []
          },
          "execution_count": 7
        }
      ]
    },
    {
      "cell_type": "markdown",
      "metadata": {
        "id": "ajeoe8Pg9D1u"
      },
      "source": [
        "Finally, let's test it on a small subset of the testing data.\n",
        "\n",
        "- note, from the numpy docs for `argmax()`: \"Returns the indices of the maximum values along an axis.\""
      ]
    },
    {
      "cell_type": "code",
      "metadata": {
        "colab": {
          "base_uri": "https://localhost:8080/",
          "height": 1000
        },
        "id": "yT3GN0Ag9QYX",
        "outputId": "59026900-5190-4d41-c66a-e67121bfab87"
      },
      "source": [
        "N_test = 5\n",
        "for n, (x, y) in enumerate(zip(X_test[:N_test], y_test[:N_test])):\n",
        "    try:\n",
        "        res = model.predict(np.array([x]), verbose=0)\n",
        "        prediction = np.argmax(res)\n",
        "        truth = np.argmax(y)\n",
        "        if prediction != truth:\n",
        "          status = \"failure\"\n",
        "        else:\n",
        "          status = \"success\"\n",
        "        print(\"test {}: {}: prediction = {}, truth is {}\".format(n, status, prediction, truth))\n",
        "        plt.imshow(x.reshape(28, 28), cmap=\"gray_r\")\n",
        "        plt.show()\n",
        "    except KeyboardInterrupt:\n",
        "        print(\"stopping\")\n",
        "        break"
      ],
      "execution_count": 11,
      "outputs": [
        {
          "output_type": "stream",
          "text": [
            "test 0: success: prediction = 7, truth is 7\n"
          ],
          "name": "stdout"
        },
        {
          "output_type": "display_data",
          "data": {
            "image/png": "[encoded data removed]",
            "text/plain": [
              "<Figure size 432x288 with 1 Axes>"
            ]
          },
          "metadata": {
            "tags": [],
            "needs_background": "light"
          }
        },
        {
          "output_type": "stream",
          "text": [
            "test 1: success: prediction = 2, truth is 2\n"
          ],
          "name": "stdout"
        },
        {
          "output_type": "display_data",
          "data": {
            "image/png": "[encoded data removed]",
            "text/plain": [
              "<Figure size 432x288 with 1 Axes>"
            ]
          },
          "metadata": {
            "tags": [],
            "needs_background": "light"
          }
        },
        {
          "output_type": "stream",
          "text": [
            "test 2: success: prediction = 1, truth is 1\n"
          ],
          "name": "stdout"
        },
        {
          "output_type": "display_data",
          "data": {
            "image/png": "[encoded data removed]",
            "text/plain": [
              "<Figure size 432x288 with 1 Axes>"
            ]
          },
          "metadata": {
            "tags": [],
            "needs_background": "light"
          }
        },
        {
          "output_type": "stream",
          "text": [
            "test 3: success: prediction = 0, truth is 0\n"
          ],
          "name": "stdout"
        },
        {
          "output_type": "display_data",
          "data": {
            "image/png": "[encoded data removed]",
            "text/plain": [
              "<Figure size 432x288 with 1 Axes>"
            ]
          },
          "metadata": {
            "tags": [],
            "needs_background": "light"
          }
        },
        {
          "output_type": "stream",
          "text": [
            "test 4: success: prediction = 4, truth is 4\n"
          ],
          "name": "stdout"
        },
        {
          "output_type": "display_data",
          "data": {
            "image/png": "[encoded data removed]",
            "text/plain": [
              "<Figure size 432x288 with 1 Axes>"
            ]
          },
          "metadata": {
            "tags": [],
            "needs_background": "light"
          }
        }
      ]
    },
    {
      "cell_type": "markdown",
      "metadata": {
        "id": "FH3IjHPB6seI"
      },
      "source": [
        "---\n",
        "\n",
        "# Exercises\n",
        "\n",
        "To avoid repeating the same set of code each time, define a function to build a model:"
      ]
    },
    {
      "cell_type": "code",
      "metadata": {
        "id": "g2qmIW0P_o5E"
      },
      "source": [
        "rms = RMSprop()\n",
        "\n",
        "def build_model(n_hidden=2, hidden_output_sizes=[500,300], activation_func='relu', \n",
        "                dropout=0.4, loss_func='categorical_crossentropy',\n",
        "                optimizer=rms, metrics=['accuracy']):\n",
        "    \"\"\"Build a sequential neural network for the MNIST data.\n",
        "\n",
        "    Parameters\n",
        "    ----------\n",
        "    n_hidden : integer, default=2\n",
        "        The number of hidden layers to use. \n",
        "    hidden_output_sizes : array_like, default=[500,300]\n",
        "        Contains the integer size of the output of each hidden layer. \n",
        "        Must have a length equal to `n_hidden`.\n",
        "    activation_func : str, default='relu'\n",
        "        The activation function to use for each hidden layer.\n",
        "    dropout : float, default=0.4\n",
        "        The percentage (not fraction) of neurons ignored in each hidden layer.\n",
        "    loss_func : str, default='categorical_crossentropy'\n",
        "        The loss function to use.\n",
        "    optimizer : a `keras.optimizers` object, default=keras.optimizers.RMSprop\n",
        "        The optimizer to use.\n",
        "    metrics : array_like, default=['accuracy']\n",
        "        A list of metrics to use to evaluate the model while training. \n",
        "    \n",
        "    Returns\n",
        "    -------\n",
        "    model : `keras.models.Sequential` object\n",
        "        The model for the sequential neural network.\n",
        "    \"\"\"\n",
        "    input_dim  = 784 # size of each input array\n",
        "    output_dim = 10 # size of each output array\n",
        "\n",
        "    model = Sequential()  # using a sequential NN model  \n",
        "    \n",
        "    # check if we have any hidden layers.\n",
        "    if n_hidden > 0: # if we have hidden layers, add them\n",
        "        for i, layer_output_dim in enumerate(hidden_output_sizes):\n",
        "            if i==0: # need to specify input dimension\n",
        "                model.add(Dense(layer_output_dim, input_dim=input_dim))\n",
        "            else:    # just add another layer\n",
        "                model.add(Dense(layer_output_dim))\n",
        "            model.add(Activation(activation_func)) # apply the activation func\n",
        "            model.add(Dropout(dropout))            # do the dropoout\n",
        "        model.add(Dense(output_dim))               # add the last layer\n",
        "\n",
        "    elif n_hidden == 0: # just add the output later\n",
        "        model.add(Dense(output_dim, input_dim=input_dim))\n",
        "\n",
        "    else:               # something isn't right\n",
        "        raise(ValueError(\"`n_hidden` must be zero or a positive integer.\"))\n",
        "\n",
        "    model.add(Activation('softmax')) # use softmax activation for the last layer\n",
        "\n",
        "    # choose the optimizer and loss function\n",
        "    model.compile(loss=loss_func, optimizer=optimizer, metrics=metrics) \n",
        "\n",
        "    return model"
      ],
      "execution_count": 23,
      "outputs": []
    },
    {
      "cell_type": "markdown",
      "metadata": {
        "id": "Q1xlgJNvFtf5"
      },
      "source": [
        "Define a function to train the model, using the training data:"
      ]
    },
    {
      "cell_type": "code",
      "metadata": {
        "id": "pVYpLSvzFxLO"
      },
      "source": [
        "def train_model(model, batch_size=256, epochs=20):\n",
        "    \"\"\"Train the neural network using the training data.\n",
        "\n",
        "    Parameters\n",
        "    ----------\n",
        "    model : `keras.models.Sequential` object\n",
        "        The model to train.\n",
        "    batch_size : integer, default=256\n",
        "        The batch_size to use for training.\n",
        "    epochs : integer, default=20\n",
        "        The number of epochs to train.\n",
        "\n",
        "    Returns\n",
        "    -------\n",
        "    hist : a `tf.keras.callbacks.History` object\n",
        "        A `keras.callbacks.Callback` instance, applied during training.\n",
        "        `hist.history` stores a record of the training at each epoch.\n",
        "    \"\"\"\n",
        "    hist = model.fit(X_train, y_train, epochs=epochs, batch_size=batch_size,\n",
        "            validation_data=(X_test, y_test), verbose=2)\n",
        "    return hist"
      ],
      "execution_count": 33,
      "outputs": []
    },
    {
      "cell_type": "markdown",
      "metadata": {
        "id": "gJQJ-Oou6xUd"
      },
      "source": [
        "---\n",
        "\n",
        "## Q1: Batch size\n",
        "\n",
        "Adjust the batch size&mdash;how does this affect the time it takes to train for an epoch?\n",
        "\n",
        "---\n",
        "\n",
        "### Q1: my solution\n",
        "\n",
        "Choose a few different batch sizes. Generate a model and train it using a new batch size for each. Time how long the training takes."
      ]
    },
    {
      "cell_type": "code",
      "metadata": {
        "colab": {
          "base_uri": "https://localhost:8080/"
        },
        "id": "2ydpB_OrIRRs",
        "outputId": "34c91f79-82af-498f-c1fe-ec76c12d2e9c"
      },
      "source": [
        "import time\n",
        "\n",
        "batch_sizes = [98, 196, 392, 784] # 784 divided by 8, 4, 2, 1\n",
        "times = []\n",
        "\n",
        "for batch_size in batch_sizes:\n",
        "    # build the model in the same way as we did above\n",
        "    model = build_model() \n",
        "    # train the model using this batch size\n",
        "    print(\"\\n batch size = \", batch_size) \n",
        "    start = time.time()\n",
        "    train_model(model, batch_size=batch_size)\n",
        "    end = time.time()\n",
        "    times.append(end - start)"
      ],
      "execution_count": 25,
      "outputs": [
        {
          "output_type": "stream",
          "text": [
            "\n",
            " batch size =  98\n",
            "Epoch 1/20\n",
            "613/613 - 8s - loss: 0.2963 - accuracy: 0.9089 - val_loss: 0.1227 - val_accuracy: 0.9632\n",
            "Epoch 2/20\n",
            "613/613 - 7s - loss: 0.1423 - accuracy: 0.9584 - val_loss: 0.0906 - val_accuracy: 0.9719\n",
            "Epoch 3/20\n",
            "613/613 - 7s - loss: 0.1157 - accuracy: 0.9676 - val_loss: 0.0816 - val_accuracy: 0.9769\n",
            "Epoch 4/20\n",
            "613/613 - 7s - loss: 0.0993 - accuracy: 0.9722 - val_loss: 0.0864 - val_accuracy: 0.9776\n",
            "Epoch 5/20\n",
            "613/613 - 7s - loss: 0.0923 - accuracy: 0.9744 - val_loss: 0.0789 - val_accuracy: 0.9793\n",
            "Epoch 6/20\n",
            "613/613 - 7s - loss: 0.0810 - accuracy: 0.9776 - val_loss: 0.0858 - val_accuracy: 0.9783\n",
            "Epoch 7/20\n",
            "613/613 - 7s - loss: 0.0773 - accuracy: 0.9785 - val_loss: 0.0951 - val_accuracy: 0.9794\n",
            "Epoch 8/20\n",
            "613/613 - 7s - loss: 0.0762 - accuracy: 0.9805 - val_loss: 0.0932 - val_accuracy: 0.9797\n",
            "Epoch 9/20\n",
            "613/613 - 7s - loss: 0.0751 - accuracy: 0.9805 - val_loss: 0.0885 - val_accuracy: 0.9819\n",
            "Epoch 10/20\n",
            "613/613 - 7s - loss: 0.0696 - accuracy: 0.9818 - val_loss: 0.0935 - val_accuracy: 0.9805\n",
            "Epoch 11/20\n",
            "613/613 - 7s - loss: 0.0677 - accuracy: 0.9833 - val_loss: 0.1010 - val_accuracy: 0.9800\n",
            "Epoch 12/20\n",
            "613/613 - 7s - loss: 0.0650 - accuracy: 0.9837 - val_loss: 0.1022 - val_accuracy: 0.9823\n",
            "Epoch 13/20\n",
            "613/613 - 7s - loss: 0.0600 - accuracy: 0.9850 - val_loss: 0.1141 - val_accuracy: 0.9811\n",
            "Epoch 14/20\n",
            "613/613 - 7s - loss: 0.0626 - accuracy: 0.9851 - val_loss: 0.1075 - val_accuracy: 0.9818\n",
            "Epoch 15/20\n",
            "613/613 - 7s - loss: 0.0636 - accuracy: 0.9852 - val_loss: 0.1214 - val_accuracy: 0.9822\n",
            "Epoch 16/20\n",
            "613/613 - 7s - loss: 0.0593 - accuracy: 0.9856 - val_loss: 0.1078 - val_accuracy: 0.9818\n",
            "Epoch 17/20\n",
            "613/613 - 7s - loss: 0.0600 - accuracy: 0.9855 - val_loss: 0.1150 - val_accuracy: 0.9809\n",
            "Epoch 18/20\n",
            "613/613 - 7s - loss: 0.0584 - accuracy: 0.9860 - val_loss: 0.1139 - val_accuracy: 0.9833\n",
            "Epoch 19/20\n",
            "613/613 - 7s - loss: 0.0582 - accuracy: 0.9865 - val_loss: 0.1110 - val_accuracy: 0.9828\n",
            "Epoch 20/20\n",
            "613/613 - 7s - loss: 0.0571 - accuracy: 0.9870 - val_loss: 0.1193 - val_accuracy: 0.9823\n",
            "\n",
            " batch size =  196\n",
            "Epoch 1/20\n",
            "307/307 - 6s - loss: 0.3398 - accuracy: 0.8965 - val_loss: 0.1352 - val_accuracy: 0.9574\n",
            "Epoch 2/20\n",
            "307/307 - 5s - loss: 0.1481 - accuracy: 0.9556 - val_loss: 0.1010 - val_accuracy: 0.9687\n",
            "Epoch 3/20\n",
            "307/307 - 5s - loss: 0.1104 - accuracy: 0.9678 - val_loss: 0.0861 - val_accuracy: 0.9740\n",
            "Epoch 4/20\n",
            "307/307 - 5s - loss: 0.0926 - accuracy: 0.9729 - val_loss: 0.0703 - val_accuracy: 0.9794\n",
            "Epoch 5/20\n",
            "307/307 - 5s - loss: 0.0827 - accuracy: 0.9761 - val_loss: 0.0727 - val_accuracy: 0.9794\n",
            "Epoch 6/20\n",
            "307/307 - 5s - loss: 0.0711 - accuracy: 0.9787 - val_loss: 0.0867 - val_accuracy: 0.9779\n",
            "Epoch 7/20\n",
            "307/307 - 5s - loss: 0.0647 - accuracy: 0.9805 - val_loss: 0.0726 - val_accuracy: 0.9810\n",
            "Epoch 8/20\n",
            "307/307 - 5s - loss: 0.0608 - accuracy: 0.9816 - val_loss: 0.0751 - val_accuracy: 0.9802\n",
            "Epoch 9/20\n",
            "307/307 - 5s - loss: 0.0572 - accuracy: 0.9833 - val_loss: 0.0759 - val_accuracy: 0.9804\n",
            "Epoch 10/20\n",
            "307/307 - 5s - loss: 0.0522 - accuracy: 0.9846 - val_loss: 0.0866 - val_accuracy: 0.9806\n",
            "Epoch 11/20\n",
            "307/307 - 5s - loss: 0.0503 - accuracy: 0.9852 - val_loss: 0.0751 - val_accuracy: 0.9823\n",
            "Epoch 12/20\n",
            "307/307 - 5s - loss: 0.0473 - accuracy: 0.9859 - val_loss: 0.0787 - val_accuracy: 0.9824\n",
            "Epoch 13/20\n",
            "307/307 - 5s - loss: 0.0473 - accuracy: 0.9866 - val_loss: 0.0757 - val_accuracy: 0.9832\n",
            "Epoch 14/20\n",
            "307/307 - 5s - loss: 0.0436 - accuracy: 0.9875 - val_loss: 0.0759 - val_accuracy: 0.9843\n",
            "Epoch 15/20\n",
            "307/307 - 6s - loss: 0.0413 - accuracy: 0.9883 - val_loss: 0.0833 - val_accuracy: 0.9834\n",
            "Epoch 16/20\n",
            "307/307 - 6s - loss: 0.0413 - accuracy: 0.9880 - val_loss: 0.0861 - val_accuracy: 0.9825\n",
            "Epoch 17/20\n",
            "307/307 - 6s - loss: 0.0408 - accuracy: 0.9884 - val_loss: 0.0974 - val_accuracy: 0.9809\n",
            "Epoch 18/20\n",
            "307/307 - 5s - loss: 0.0394 - accuracy: 0.9888 - val_loss: 0.0925 - val_accuracy: 0.9819\n",
            "Epoch 19/20\n",
            "307/307 - 5s - loss: 0.0363 - accuracy: 0.9898 - val_loss: 0.0914 - val_accuracy: 0.9834\n",
            "Epoch 20/20\n",
            "307/307 - 6s - loss: 0.0352 - accuracy: 0.9899 - val_loss: 0.0974 - val_accuracy: 0.9843\n",
            "\n",
            " batch size =  392\n",
            "Epoch 1/20\n",
            "154/154 - 5s - loss: 0.4099 - accuracy: 0.8734 - val_loss: 0.1773 - val_accuracy: 0.9419\n",
            "Epoch 2/20\n",
            "154/154 - 5s - loss: 0.1675 - accuracy: 0.9491 - val_loss: 0.1178 - val_accuracy: 0.9636\n",
            "Epoch 3/20\n",
            "154/154 - 5s - loss: 0.1211 - accuracy: 0.9628 - val_loss: 0.0978 - val_accuracy: 0.9699\n",
            "Epoch 4/20\n",
            "154/154 - 5s - loss: 0.0982 - accuracy: 0.9707 - val_loss: 0.0759 - val_accuracy: 0.9768\n",
            "Epoch 5/20\n",
            "154/154 - 5s - loss: 0.0818 - accuracy: 0.9742 - val_loss: 0.0678 - val_accuracy: 0.9801\n",
            "Epoch 6/20\n",
            "154/154 - 5s - loss: 0.0726 - accuracy: 0.9771 - val_loss: 0.0680 - val_accuracy: 0.9793\n",
            "Epoch 7/20\n",
            "154/154 - 5s - loss: 0.0634 - accuracy: 0.9799 - val_loss: 0.0671 - val_accuracy: 0.9812\n",
            "Epoch 8/20\n",
            "154/154 - 5s - loss: 0.0584 - accuracy: 0.9818 - val_loss: 0.0659 - val_accuracy: 0.9808\n",
            "Epoch 9/20\n",
            "154/154 - 5s - loss: 0.0529 - accuracy: 0.9827 - val_loss: 0.0648 - val_accuracy: 0.9820\n",
            "Epoch 10/20\n",
            "154/154 - 5s - loss: 0.0486 - accuracy: 0.9844 - val_loss: 0.0614 - val_accuracy: 0.9833\n",
            "Epoch 11/20\n",
            "154/154 - 5s - loss: 0.0440 - accuracy: 0.9855 - val_loss: 0.0642 - val_accuracy: 0.9825\n",
            "Epoch 12/20\n",
            "154/154 - 5s - loss: 0.0413 - accuracy: 0.9865 - val_loss: 0.0616 - val_accuracy: 0.9834\n",
            "Epoch 13/20\n",
            "154/154 - 5s - loss: 0.0386 - accuracy: 0.9880 - val_loss: 0.0710 - val_accuracy: 0.9819\n",
            "Epoch 14/20\n",
            "154/154 - 5s - loss: 0.0371 - accuracy: 0.9886 - val_loss: 0.0681 - val_accuracy: 0.9841\n",
            "Epoch 15/20\n",
            "154/154 - 5s - loss: 0.0360 - accuracy: 0.9887 - val_loss: 0.0686 - val_accuracy: 0.9832\n",
            "Epoch 16/20\n",
            "154/154 - 5s - loss: 0.0329 - accuracy: 0.9897 - val_loss: 0.0684 - val_accuracy: 0.9833\n",
            "Epoch 17/20\n",
            "154/154 - 5s - loss: 0.0328 - accuracy: 0.9900 - val_loss: 0.0692 - val_accuracy: 0.9842\n",
            "Epoch 18/20\n",
            "154/154 - 5s - loss: 0.0302 - accuracy: 0.9901 - val_loss: 0.0697 - val_accuracy: 0.9839\n",
            "Epoch 19/20\n",
            "154/154 - 5s - loss: 0.0294 - accuracy: 0.9907 - val_loss: 0.0690 - val_accuracy: 0.9850\n",
            "Epoch 20/20\n",
            "154/154 - 5s - loss: 0.0284 - accuracy: 0.9913 - val_loss: 0.0671 - val_accuracy: 0.9836\n",
            "\n",
            " batch size =  784\n",
            "Epoch 1/20\n",
            "77/77 - 5s - loss: 0.5266 - accuracy: 0.8384 - val_loss: 0.1991 - val_accuracy: 0.9394\n",
            "Epoch 2/20\n",
            "77/77 - 4s - loss: 0.2152 - accuracy: 0.9350 - val_loss: 0.1253 - val_accuracy: 0.9609\n",
            "Epoch 3/20\n",
            "77/77 - 4s - loss: 0.1535 - accuracy: 0.9538 - val_loss: 0.1007 - val_accuracy: 0.9683\n",
            "Epoch 4/20\n",
            "77/77 - 4s - loss: 0.1189 - accuracy: 0.9650 - val_loss: 0.0942 - val_accuracy: 0.9703\n",
            "Epoch 5/20\n",
            "77/77 - 4s - loss: 0.0987 - accuracy: 0.9697 - val_loss: 0.0795 - val_accuracy: 0.9743\n",
            "Epoch 6/20\n",
            "77/77 - 4s - loss: 0.0826 - accuracy: 0.9748 - val_loss: 0.0754 - val_accuracy: 0.9766\n",
            "Epoch 7/20\n",
            "77/77 - 4s - loss: 0.0719 - accuracy: 0.9780 - val_loss: 0.0668 - val_accuracy: 0.9803\n",
            "Epoch 8/20\n",
            "77/77 - 4s - loss: 0.0650 - accuracy: 0.9795 - val_loss: 0.0709 - val_accuracy: 0.9779\n",
            "Epoch 9/20\n",
            "77/77 - 4s - loss: 0.0573 - accuracy: 0.9821 - val_loss: 0.0620 - val_accuracy: 0.9814\n",
            "Epoch 10/20\n",
            "77/77 - 4s - loss: 0.0517 - accuracy: 0.9831 - val_loss: 0.0683 - val_accuracy: 0.9796\n",
            "Epoch 11/20\n",
            "77/77 - 4s - loss: 0.0498 - accuracy: 0.9844 - val_loss: 0.0593 - val_accuracy: 0.9837\n",
            "Epoch 12/20\n",
            "77/77 - 4s - loss: 0.0431 - accuracy: 0.9860 - val_loss: 0.0588 - val_accuracy: 0.9826\n",
            "Epoch 13/20\n",
            "77/77 - 4s - loss: 0.0394 - accuracy: 0.9870 - val_loss: 0.0632 - val_accuracy: 0.9830\n",
            "Epoch 14/20\n",
            "77/77 - 4s - loss: 0.0386 - accuracy: 0.9874 - val_loss: 0.0642 - val_accuracy: 0.9815\n",
            "Epoch 15/20\n",
            "77/77 - 4s - loss: 0.0354 - accuracy: 0.9887 - val_loss: 0.0595 - val_accuracy: 0.9832\n",
            "Epoch 16/20\n",
            "77/77 - 4s - loss: 0.0327 - accuracy: 0.9892 - val_loss: 0.0640 - val_accuracy: 0.9824\n",
            "Epoch 17/20\n",
            "77/77 - 4s - loss: 0.0290 - accuracy: 0.9905 - val_loss: 0.0622 - val_accuracy: 0.9850\n",
            "Epoch 18/20\n",
            "77/77 - 4s - loss: 0.0287 - accuracy: 0.9902 - val_loss: 0.0667 - val_accuracy: 0.9830\n",
            "Epoch 19/20\n",
            "77/77 - 4s - loss: 0.0284 - accuracy: 0.9904 - val_loss: 0.0683 - val_accuracy: 0.9820\n",
            "Epoch 20/20\n",
            "77/77 - 4s - loss: 0.0262 - accuracy: 0.9916 - val_loss: 0.0592 - val_accuracy: 0.9860\n"
          ],
          "name": "stdout"
        }
      ]
    },
    {
      "cell_type": "code",
      "metadata": {
        "colab": {
          "base_uri": "https://localhost:8080/",
          "height": 287
        },
        "id": "Wc5lHsZyMzRT",
        "outputId": "770da4df-3488-4e63-877b-20f2ff1ebce0"
      },
      "source": [
        "# plot the training time as a function of the batch size\n",
        "fig = plt.figure()\n",
        "ax = fig.add_subplot(1,1,1)\n",
        "ax.plot(batch_sizes, times, 'o-')\n",
        "ax.set_xlabel(\"Batch size\", fontsize=16)\n",
        "ax.set_ylabel(\"Training time [s]\", fontsize=16)\n",
        "ax.tick_params(axis='both', labelsize=12)\n",
        "plt.show()\n"
      ],
      "execution_count": 27,
      "outputs": [
        {
          "output_type": "display_data",
          "data": {
            "image/png": "[encoded data removed]",
            "text/plain": [
              "<Figure size 432x288 with 1 Axes>"
            ]
          },
          "metadata": {
            "tags": [],
            "needs_background": "light"
          }
        }
      ]
    },
    {
      "cell_type": "markdown",
      "metadata": {
        "id": "OL4wgZWcT8Gt"
      },
      "source": [
        "We can see that smaller batch sizes take longer and lead to lower accuracy."
      ]
    },
    {
      "cell_type": "markdown",
      "metadata": {
        "id": "nzDuBz5u6zzk"
      },
      "source": [
        "---\n",
        "\n",
        "## Q2: Hidden layers\n",
        "\n",
        "Remove one of the hidden layers&mdash;how does the accuracy change?\n",
        "\n",
        "---\n",
        "\n",
        "### Q2: my solution\n",
        "\n",
        "Keeping everything else fixed to their default values, test using only one hidden layer, compared to the original two."
      ]
    },
    {
      "cell_type": "code",
      "metadata": {
        "colab": {
          "base_uri": "https://localhost:8080/"
        },
        "id": "qVYH20UgUbsK",
        "outputId": "fe6854f4-2923-4836-a09d-6faae6a3d68c"
      },
      "source": [
        "# default model with 2 hidden layers\n",
        "model = build_model()\n",
        "train_model(model)"
      ],
      "execution_count": 29,
      "outputs": [
        {
          "output_type": "stream",
          "text": [
            "Epoch 1/20\n",
            "235/235 - 6s - loss: 0.3620 - accuracy: 0.8890 - val_loss: 0.1387 - val_accuracy: 0.9560\n",
            "Epoch 2/20\n",
            "235/235 - 5s - loss: 0.1537 - accuracy: 0.9538 - val_loss: 0.0997 - val_accuracy: 0.9694\n",
            "Epoch 3/20\n",
            "235/235 - 5s - loss: 0.1144 - accuracy: 0.9652 - val_loss: 0.0781 - val_accuracy: 0.9766\n",
            "Epoch 4/20\n",
            "235/235 - 5s - loss: 0.0935 - accuracy: 0.9718 - val_loss: 0.0754 - val_accuracy: 0.9772\n",
            "Epoch 5/20\n",
            "235/235 - 5s - loss: 0.0821 - accuracy: 0.9750 - val_loss: 0.0690 - val_accuracy: 0.9798\n",
            "Epoch 6/20\n",
            "235/235 - 5s - loss: 0.0719 - accuracy: 0.9776 - val_loss: 0.0712 - val_accuracy: 0.9808\n",
            "Epoch 7/20\n",
            "235/235 - 5s - loss: 0.0642 - accuracy: 0.9804 - val_loss: 0.0699 - val_accuracy: 0.9804\n",
            "Epoch 8/20\n",
            "235/235 - 5s - loss: 0.0577 - accuracy: 0.9827 - val_loss: 0.0656 - val_accuracy: 0.9817\n",
            "Epoch 9/20\n",
            "235/235 - 5s - loss: 0.0537 - accuracy: 0.9830 - val_loss: 0.0667 - val_accuracy: 0.9833\n",
            "Epoch 10/20\n",
            "235/235 - 5s - loss: 0.0483 - accuracy: 0.9852 - val_loss: 0.0731 - val_accuracy: 0.9819\n",
            "Epoch 11/20\n",
            "235/235 - 5s - loss: 0.0472 - accuracy: 0.9855 - val_loss: 0.0720 - val_accuracy: 0.9832\n",
            "Epoch 12/20\n",
            "235/235 - 5s - loss: 0.0442 - accuracy: 0.9865 - val_loss: 0.0731 - val_accuracy: 0.9838\n",
            "Epoch 13/20\n",
            "235/235 - 5s - loss: 0.0424 - accuracy: 0.9868 - val_loss: 0.0689 - val_accuracy: 0.9834\n",
            "Epoch 14/20\n",
            "235/235 - 5s - loss: 0.0396 - accuracy: 0.9877 - val_loss: 0.0687 - val_accuracy: 0.9847\n",
            "Epoch 15/20\n",
            "235/235 - 5s - loss: 0.0363 - accuracy: 0.9887 - val_loss: 0.0741 - val_accuracy: 0.9837\n",
            "Epoch 16/20\n",
            "235/235 - 5s - loss: 0.0368 - accuracy: 0.9887 - val_loss: 0.0759 - val_accuracy: 0.9848\n",
            "Epoch 17/20\n",
            "235/235 - 5s - loss: 0.0333 - accuracy: 0.9898 - val_loss: 0.0797 - val_accuracy: 0.9834\n",
            "Epoch 18/20\n",
            "235/235 - 5s - loss: 0.0335 - accuracy: 0.9898 - val_loss: 0.0784 - val_accuracy: 0.9841\n",
            "Epoch 19/20\n",
            "235/235 - 5s - loss: 0.0336 - accuracy: 0.9901 - val_loss: 0.0926 - val_accuracy: 0.9812\n",
            "Epoch 20/20\n",
            "235/235 - 5s - loss: 0.0304 - accuracy: 0.9907 - val_loss: 0.0868 - val_accuracy: 0.9845\n"
          ],
          "name": "stdout"
        }
      ]
    },
    {
      "cell_type": "code",
      "metadata": {
        "colab": {
          "base_uri": "https://localhost:8080/"
        },
        "id": "4x5kOMLsUpBE",
        "outputId": "54eafb70-354d-4cea-c598-0e09aabd9b5c"
      },
      "source": [
        "# create a model with only one hidden layer, with an output size of 500 \n",
        "model = build_model(n_hidden=1, hidden_output_sizes=[500])\n",
        "train_model(model)"
      ],
      "execution_count": 30,
      "outputs": [
        {
          "output_type": "stream",
          "text": [
            "Epoch 1/20\n",
            "235/235 - 4s - loss: 0.3535 - accuracy: 0.8970 - val_loss: 0.1639 - val_accuracy: 0.9508\n",
            "Epoch 2/20\n",
            "235/235 - 4s - loss: 0.1611 - accuracy: 0.9524 - val_loss: 0.1162 - val_accuracy: 0.9654\n",
            "Epoch 3/20\n",
            "235/235 - 4s - loss: 0.1175 - accuracy: 0.9659 - val_loss: 0.0945 - val_accuracy: 0.9715\n",
            "Epoch 4/20\n",
            "235/235 - 4s - loss: 0.0934 - accuracy: 0.9724 - val_loss: 0.0786 - val_accuracy: 0.9747\n",
            "Epoch 5/20\n",
            "235/235 - 4s - loss: 0.0795 - accuracy: 0.9757 - val_loss: 0.0759 - val_accuracy: 0.9770\n",
            "Epoch 6/20\n",
            "235/235 - 4s - loss: 0.0680 - accuracy: 0.9787 - val_loss: 0.0681 - val_accuracy: 0.9793\n",
            "Epoch 7/20\n",
            "235/235 - 4s - loss: 0.0607 - accuracy: 0.9818 - val_loss: 0.0659 - val_accuracy: 0.9796\n",
            "Epoch 8/20\n",
            "235/235 - 4s - loss: 0.0545 - accuracy: 0.9836 - val_loss: 0.0666 - val_accuracy: 0.9795\n",
            "Epoch 9/20\n",
            "235/235 - 4s - loss: 0.0479 - accuracy: 0.9854 - val_loss: 0.0616 - val_accuracy: 0.9808\n",
            "Epoch 10/20\n",
            "235/235 - 4s - loss: 0.0432 - accuracy: 0.9863 - val_loss: 0.0595 - val_accuracy: 0.9822\n",
            "Epoch 11/20\n",
            "235/235 - 4s - loss: 0.0405 - accuracy: 0.9874 - val_loss: 0.0594 - val_accuracy: 0.9827\n",
            "Epoch 12/20\n",
            "235/235 - 4s - loss: 0.0363 - accuracy: 0.9887 - val_loss: 0.0612 - val_accuracy: 0.9825\n",
            "Epoch 13/20\n",
            "235/235 - 4s - loss: 0.0338 - accuracy: 0.9894 - val_loss: 0.0651 - val_accuracy: 0.9812\n",
            "Epoch 14/20\n",
            "235/235 - 4s - loss: 0.0303 - accuracy: 0.9904 - val_loss: 0.0617 - val_accuracy: 0.9833\n",
            "Epoch 15/20\n",
            "235/235 - 4s - loss: 0.0291 - accuracy: 0.9908 - val_loss: 0.0596 - val_accuracy: 0.9836\n",
            "Epoch 16/20\n",
            "235/235 - 4s - loss: 0.0262 - accuracy: 0.9918 - val_loss: 0.0646 - val_accuracy: 0.9822\n",
            "Epoch 17/20\n",
            "235/235 - 4s - loss: 0.0257 - accuracy: 0.9921 - val_loss: 0.0608 - val_accuracy: 0.9833\n",
            "Epoch 18/20\n",
            "235/235 - 4s - loss: 0.0242 - accuracy: 0.9920 - val_loss: 0.0630 - val_accuracy: 0.9821\n",
            "Epoch 19/20\n",
            "235/235 - 4s - loss: 0.0219 - accuracy: 0.9929 - val_loss: 0.0617 - val_accuracy: 0.9838\n",
            "Epoch 20/20\n",
            "235/235 - 4s - loss: 0.0207 - accuracy: 0.9932 - val_loss: 0.0649 - val_accuracy: 0.9839\n"
          ],
          "name": "stdout"
        }
      ]
    },
    {
      "cell_type": "markdown",
      "metadata": {
        "id": "U3Fh4ORQVV2x"
      },
      "source": [
        "We can see that removing a hidden layer didn't really change much : for epoch 20/20, \n",
        "\n",
        "| Hidden layers | `loss`  | `accuracy` | `val_loss`  | `val_accuracy` |\n",
        "|---|---|---|---|---|\n",
        "| 2 |  0.0304 | 0.9907 | 0.0868 | 0.9845 |\n",
        "| 1 | 0.0207 | 0.9932 | 0.0649 | 0.9839 |"
      ]
    },
    {
      "cell_type": "markdown",
      "metadata": {
        "id": "EgNGETYZ614G"
      },
      "source": [
        "---\n",
        "\n",
        "## Q3: Dropout\n",
        "\n",
        "What happens to the accuracy if you don't include any dropouts?\n",
        "\n",
        "---\n",
        "\n",
        "### Q3: my solution"
      ]
    },
    {
      "cell_type": "code",
      "metadata": {
        "colab": {
          "base_uri": "https://localhost:8080/"
        },
        "id": "iT6QCqjUWWa1",
        "outputId": "580357b8-ec67-4d70-870c-18b1ec9cced7"
      },
      "source": [
        "# train a model with no dropout\n",
        "model = build_model(dropout=0.)\n",
        "train_model(model)"
      ],
      "execution_count": 31,
      "outputs": [
        {
          "output_type": "stream",
          "text": [
            "Epoch 1/20\n",
            "235/235 - 6s - loss: 0.2780 - accuracy: 0.9136 - val_loss: 0.1578 - val_accuracy: 0.9493\n",
            "Epoch 2/20\n",
            "235/235 - 5s - loss: 0.0976 - accuracy: 0.9700 - val_loss: 0.0814 - val_accuracy: 0.9742\n",
            "Epoch 3/20\n",
            "235/235 - 5s - loss: 0.0613 - accuracy: 0.9811 - val_loss: 0.1467 - val_accuracy: 0.9542\n",
            "Epoch 4/20\n",
            "235/235 - 5s - loss: 0.0421 - accuracy: 0.9870 - val_loss: 0.0761 - val_accuracy: 0.9763\n",
            "Epoch 5/20\n",
            "235/235 - 5s - loss: 0.0310 - accuracy: 0.9902 - val_loss: 0.0822 - val_accuracy: 0.9750\n",
            "Epoch 6/20\n",
            "235/235 - 5s - loss: 0.0224 - accuracy: 0.9926 - val_loss: 0.0745 - val_accuracy: 0.9812\n",
            "Epoch 7/20\n",
            "235/235 - 5s - loss: 0.0163 - accuracy: 0.9947 - val_loss: 0.0890 - val_accuracy: 0.9801\n",
            "Epoch 8/20\n",
            "235/235 - 5s - loss: 0.0141 - accuracy: 0.9952 - val_loss: 0.0745 - val_accuracy: 0.9823\n",
            "Epoch 9/20\n",
            "235/235 - 5s - loss: 0.0111 - accuracy: 0.9962 - val_loss: 0.0880 - val_accuracy: 0.9801\n",
            "Epoch 10/20\n",
            "235/235 - 5s - loss: 0.0089 - accuracy: 0.9971 - val_loss: 0.0743 - val_accuracy: 0.9833\n",
            "Epoch 11/20\n",
            "235/235 - 5s - loss: 0.0076 - accuracy: 0.9977 - val_loss: 0.0866 - val_accuracy: 0.9819\n",
            "Epoch 12/20\n",
            "235/235 - 5s - loss: 0.0067 - accuracy: 0.9976 - val_loss: 0.1510 - val_accuracy: 0.9732\n",
            "Epoch 13/20\n",
            "235/235 - 5s - loss: 0.0057 - accuracy: 0.9981 - val_loss: 0.1083 - val_accuracy: 0.9803\n",
            "Epoch 14/20\n",
            "235/235 - 5s - loss: 0.0056 - accuracy: 0.9982 - val_loss: 0.0936 - val_accuracy: 0.9832\n",
            "Epoch 15/20\n",
            "235/235 - 5s - loss: 0.0043 - accuracy: 0.9986 - val_loss: 0.0863 - val_accuracy: 0.9838\n",
            "Epoch 16/20\n",
            "235/235 - 5s - loss: 0.0045 - accuracy: 0.9984 - val_loss: 0.1139 - val_accuracy: 0.9813\n",
            "Epoch 17/20\n",
            "235/235 - 5s - loss: 0.0044 - accuracy: 0.9987 - val_loss: 0.1167 - val_accuracy: 0.9820\n",
            "Epoch 18/20\n",
            "235/235 - 5s - loss: 0.0032 - accuracy: 0.9987 - val_loss: 0.1385 - val_accuracy: 0.9780\n",
            "Epoch 19/20\n",
            "235/235 - 5s - loss: 0.0035 - accuracy: 0.9989 - val_loss: 0.1180 - val_accuracy: 0.9827\n",
            "Epoch 20/20\n",
            "235/235 - 5s - loss: 0.0033 - accuracy: 0.9990 - val_loss: 0.1258 - val_accuracy: 0.9827\n"
          ],
          "name": "stdout"
        }
      ]
    },
    {
      "cell_type": "markdown",
      "metadata": {
        "id": "_LQx072KWdmp"
      },
      "source": [
        "Here, for the last epoch, we can see that the accuracy is increased when the dropout is removed, but the validation accuracy is approximately the same.\n",
        "\n",
        "| Dropout | `loss`  | `accuracy` | `val_loss`  | `val_accuracy` |\n",
        "|---|---|---|---|---|\n",
        "| 0.4 | 0.0304 | 0.9907 | 0.0868 | 0.9845 |\n",
        "| 0.0 | 0.0033 | 0.9990 | 0.1258 | 0.9827 |"
      ]
    },
    {
      "cell_type": "markdown",
      "metadata": {
        "id": "EN5rg0ew67fe"
      },
      "source": [
        "---\n",
        "\n",
        "## Q4: Activation\n",
        "\n",
        "How does the network perform using a `\"sigmoid\"` activation function?\n",
        "\n",
        "---\n",
        "\n",
        "### Q4: my solution"
      ]
    },
    {
      "cell_type": "code",
      "metadata": {
        "colab": {
          "base_uri": "https://localhost:8080/"
        },
        "id": "GicFSSdcXZjm",
        "outputId": "6506461d-db8c-4a7c-a4ff-6a96e6bb8e3a"
      },
      "source": [
        "# train a model with no dropout\n",
        "model = build_model(activation_func=\"sigmoid\")\n",
        "train_model(model)"
      ],
      "execution_count": 32,
      "outputs": [
        {
          "output_type": "stream",
          "text": [
            "Epoch 1/20\n",
            "235/235 - 6s - loss: 0.7773 - accuracy: 0.7555 - val_loss: 0.3069 - val_accuracy: 0.9097\n",
            "Epoch 2/20\n",
            "235/235 - 5s - loss: 0.3296 - accuracy: 0.9004 - val_loss: 0.2340 - val_accuracy: 0.9285\n",
            "Epoch 3/20\n",
            "235/235 - 5s - loss: 0.2600 - accuracy: 0.9218 - val_loss: 0.1944 - val_accuracy: 0.9434\n",
            "Epoch 4/20\n",
            "235/235 - 5s - loss: 0.2151 - accuracy: 0.9348 - val_loss: 0.1589 - val_accuracy: 0.9507\n",
            "Epoch 5/20\n",
            "235/235 - 5s - loss: 0.1844 - accuracy: 0.9439 - val_loss: 0.1368 - val_accuracy: 0.9573\n",
            "Epoch 6/20\n",
            "235/235 - 5s - loss: 0.1613 - accuracy: 0.9523 - val_loss: 0.1223 - val_accuracy: 0.9641\n",
            "Epoch 7/20\n",
            "235/235 - 5s - loss: 0.1410 - accuracy: 0.9568 - val_loss: 0.1118 - val_accuracy: 0.9653\n",
            "Epoch 8/20\n",
            "235/235 - 5s - loss: 0.1287 - accuracy: 0.9603 - val_loss: 0.1002 - val_accuracy: 0.9688\n",
            "Epoch 9/20\n",
            "235/235 - 5s - loss: 0.1164 - accuracy: 0.9641 - val_loss: 0.0918 - val_accuracy: 0.9718\n",
            "Epoch 10/20\n",
            "235/235 - 5s - loss: 0.1063 - accuracy: 0.9682 - val_loss: 0.0905 - val_accuracy: 0.9707\n",
            "Epoch 11/20\n",
            "235/235 - 5s - loss: 0.1002 - accuracy: 0.9691 - val_loss: 0.0837 - val_accuracy: 0.9730\n",
            "Epoch 12/20\n",
            "235/235 - 5s - loss: 0.0925 - accuracy: 0.9711 - val_loss: 0.0809 - val_accuracy: 0.9738\n",
            "Epoch 13/20\n",
            "235/235 - 5s - loss: 0.0859 - accuracy: 0.9731 - val_loss: 0.0797 - val_accuracy: 0.9756\n",
            "Epoch 14/20\n",
            "235/235 - 5s - loss: 0.0812 - accuracy: 0.9746 - val_loss: 0.0748 - val_accuracy: 0.9761\n",
            "Epoch 15/20\n",
            "235/235 - 5s - loss: 0.0775 - accuracy: 0.9758 - val_loss: 0.0730 - val_accuracy: 0.9768\n",
            "Epoch 16/20\n",
            "235/235 - 5s - loss: 0.0721 - accuracy: 0.9772 - val_loss: 0.0761 - val_accuracy: 0.9762\n",
            "Epoch 17/20\n",
            "235/235 - 5s - loss: 0.0693 - accuracy: 0.9778 - val_loss: 0.0713 - val_accuracy: 0.9774\n",
            "Epoch 18/20\n",
            "235/235 - 5s - loss: 0.0658 - accuracy: 0.9793 - val_loss: 0.0698 - val_accuracy: 0.9789\n",
            "Epoch 19/20\n",
            "235/235 - 5s - loss: 0.0616 - accuracy: 0.9810 - val_loss: 0.0684 - val_accuracy: 0.9785\n",
            "Epoch 20/20\n",
            "235/235 - 5s - loss: 0.0604 - accuracy: 0.9811 - val_loss: 0.0654 - val_accuracy: 0.9799\n"
          ],
          "name": "stdout"
        }
      ]
    },
    {
      "cell_type": "markdown",
      "metadata": {
        "id": "mOtgrvA_ZCwT"
      },
      "source": [
        "Here, we can see that the accuracy has decreased.\n",
        "\n",
        "| Activation function | `loss`  | `accuracy` | `val_loss`  | `val_accuracy` |\n",
        "|---|---|---|---|---|\n",
        "| rectified linear unit (`\"relu\"`) | 0.0304 | 0.9907 | 0.0868 | 0.9845 |\n",
        "| sigmoid (`\"sigmoid\"`) | 0.0604 | 0.9811 | 0.0654 | 0.9799 |"
      ]
    },
    {
      "cell_type": "markdown",
      "metadata": {
        "id": "qswvm2mm6-OR"
      },
      "source": [
        "---\n",
        "\n",
        "## Q5: Callbacks\n",
        "\n",
        "keras allows for callbacks each epoch to store some information.  Make a plot of the accuracy vs. epoch by adding a callback.  Take a look here for some inspiration:\n",
        "\n",
        "https://keras.io/callbacks/#example-recording-loss-history\n",
        "\n",
        "https://www.tensorflow.org/api_docs/python/tf/keras/callbacks/History\n",
        "\n",
        "---\n",
        "\n",
        "The `History` callback is automatically returned by the `fit()` function used to train the model. It is also the output of the function `train_model()` defined above."
      ]
    },
    {
      "cell_type": "code",
      "metadata": {
        "colab": {
          "base_uri": "https://localhost:8080/"
        },
        "id": "yehBNyszaueT",
        "outputId": "05552bf6-c50e-400a-8835-e245972314db"
      },
      "source": [
        "model = build_model()\n",
        "hist = train_model(model)"
      ],
      "execution_count": 34,
      "outputs": [
        {
          "output_type": "stream",
          "text": [
            "Epoch 1/20\n",
            "235/235 - 6s - loss: 0.3592 - accuracy: 0.8904 - val_loss: 0.1389 - val_accuracy: 0.9567\n",
            "Epoch 2/20\n",
            "235/235 - 5s - loss: 0.1535 - accuracy: 0.9543 - val_loss: 0.1021 - val_accuracy: 0.9681\n",
            "Epoch 3/20\n",
            "235/235 - 5s - loss: 0.1134 - accuracy: 0.9661 - val_loss: 0.0880 - val_accuracy: 0.9722\n",
            "Epoch 4/20\n",
            "235/235 - 5s - loss: 0.0940 - accuracy: 0.9710 - val_loss: 0.0734 - val_accuracy: 0.9779\n",
            "Epoch 5/20\n",
            "235/235 - 5s - loss: 0.0795 - accuracy: 0.9759 - val_loss: 0.0793 - val_accuracy: 0.9761\n",
            "Epoch 6/20\n",
            "235/235 - 5s - loss: 0.0712 - accuracy: 0.9783 - val_loss: 0.0739 - val_accuracy: 0.9789\n",
            "Epoch 7/20\n",
            "235/235 - 5s - loss: 0.0639 - accuracy: 0.9809 - val_loss: 0.0746 - val_accuracy: 0.9801\n",
            "Epoch 8/20\n",
            "235/235 - 5s - loss: 0.0578 - accuracy: 0.9820 - val_loss: 0.0761 - val_accuracy: 0.9813\n",
            "Epoch 9/20\n",
            "235/235 - 5s - loss: 0.0562 - accuracy: 0.9828 - val_loss: 0.0787 - val_accuracy: 0.9806\n",
            "Epoch 10/20\n",
            "235/235 - 5s - loss: 0.0513 - accuracy: 0.9844 - val_loss: 0.0806 - val_accuracy: 0.9798\n",
            "Epoch 11/20\n",
            "235/235 - 5s - loss: 0.0484 - accuracy: 0.9855 - val_loss: 0.0748 - val_accuracy: 0.9811\n",
            "Epoch 12/20\n",
            "235/235 - 5s - loss: 0.0439 - accuracy: 0.9866 - val_loss: 0.0815 - val_accuracy: 0.9817\n",
            "Epoch 13/20\n",
            "235/235 - 5s - loss: 0.0415 - accuracy: 0.9876 - val_loss: 0.0764 - val_accuracy: 0.9825\n",
            "Epoch 14/20\n",
            "235/235 - 5s - loss: 0.0401 - accuracy: 0.9880 - val_loss: 0.0739 - val_accuracy: 0.9832\n",
            "Epoch 15/20\n",
            "235/235 - 5s - loss: 0.0372 - accuracy: 0.9885 - val_loss: 0.0800 - val_accuracy: 0.9829\n",
            "Epoch 16/20\n",
            "235/235 - 5s - loss: 0.0378 - accuracy: 0.9884 - val_loss: 0.0799 - val_accuracy: 0.9836\n",
            "Epoch 17/20\n",
            "235/235 - 5s - loss: 0.0340 - accuracy: 0.9897 - val_loss: 0.0766 - val_accuracy: 0.9840\n",
            "Epoch 18/20\n",
            "235/235 - 5s - loss: 0.0321 - accuracy: 0.9897 - val_loss: 0.0869 - val_accuracy: 0.9815\n",
            "Epoch 19/20\n",
            "235/235 - 5s - loss: 0.0334 - accuracy: 0.9903 - val_loss: 0.0912 - val_accuracy: 0.9830\n",
            "Epoch 20/20\n",
            "235/235 - 5s - loss: 0.0337 - accuracy: 0.9901 - val_loss: 0.0860 - val_accuracy: 0.9836\n"
          ],
          "name": "stdout"
        }
      ]
    },
    {
      "cell_type": "code",
      "metadata": {
        "colab": {
          "base_uri": "https://localhost:8080/"
        },
        "id": "tz7u715LazQv",
        "outputId": "04fd03b1-75cb-489f-e391-0fa77fd9e859"
      },
      "source": [
        "training_history = hist.history\n",
        "type(training_history)"
      ],
      "execution_count": 36,
      "outputs": [
        {
          "output_type": "execute_result",
          "data": {
            "text/plain": [
              "dict"
            ]
          },
          "metadata": {
            "tags": []
          },
          "execution_count": 36
        }
      ]
    },
    {
      "cell_type": "code",
      "metadata": {
        "colab": {
          "base_uri": "https://localhost:8080/"
        },
        "id": "XCviteqZa1Mx",
        "outputId": "3beb3fca-0fcd-4e2d-a17c-e662fb4ee563"
      },
      "source": [
        "for key in training_history.keys():\n",
        "    print(key, type(training_history[key]), len(training_history[key]))"
      ],
      "execution_count": 40,
      "outputs": [
        {
          "output_type": "stream",
          "text": [
            "loss <class 'list'> 20\n",
            "accuracy <class 'list'> 20\n",
            "val_loss <class 'list'> 20\n",
            "val_accuracy <class 'list'> 20\n"
          ],
          "name": "stdout"
        }
      ]
    },
    {
      "cell_type": "markdown",
      "metadata": {
        "id": "jMUSjQKMbkWv"
      },
      "source": [
        "So we have a dictionary with keys for the loss and accuracy, and the values are lists with one entry per epoch.\n",
        "\n",
        "Now we can get the list for the accuracy, and plot it against the number of epochs:"
      ]
    },
    {
      "cell_type": "code",
      "metadata": {
        "colab": {
          "base_uri": "https://localhost:8080/",
          "height": 287
        },
        "id": "q8EaBrnubXIc",
        "outputId": "ae1b330b-3116-477b-fb06-ffedee428dde"
      },
      "source": [
        "accuracy = training_history['accuracy']\n",
        "epochs = range(1,21) # start counting at 1\n",
        "\n",
        "# make the plot\n",
        "fig = plt.figure()\n",
        "ax = fig.add_subplot(1,1,1)\n",
        "\n",
        "ax.plot(epochs, accuracy, 'o-')\n",
        "ax.set_xlabel(\"Epoch\", fontsize=16)\n",
        "ax.set_ylabel(\"Accuracy\", fontsize=16)\n",
        "ax.tick_params(axis='both', labelsize=12)\n",
        "ax.set_xticks(range(0,21,4))\n",
        "ax.grid(alpha=0.35)\n",
        "\n",
        "plt.show()"
      ],
      "execution_count": 48,
      "outputs": [
        {
          "output_type": "display_data",
          "data": {
            "image/png": "[encoded data removed]",
            "text/plain": [
              "<Figure size 432x288 with 1 Axes>"
            ]
          },
          "metadata": {
            "tags": [],
            "needs_background": "light"
          }
        }
      ]
    },
    {
      "cell_type": "code",
      "metadata": {
        "id": "WL5v3FZ_cK1m"
      },
      "source": [
        ""
      ],
      "execution_count": null,
      "outputs": []
    }
  ]
}